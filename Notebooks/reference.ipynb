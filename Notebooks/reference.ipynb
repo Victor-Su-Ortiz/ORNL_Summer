{
 "cells": [
  {
   "cell_type": "code",
   "execution_count": 2,
   "metadata": {},
   "outputs": [
    {
     "name": "stdout",
     "output_type": "stream",
     "text": [
      "Epoch 1/10\n",
      "  95/1875 [>.............................] - ETA: 0s - loss: 13.6903 - accuracy: 0.2289   "
     ]
    },
    {
     "name": "stderr",
     "output_type": "stream",
     "text": [
      "2024-07-02 16:24:13.968090: I tensorflow/core/common_runtime/executor.cc:1197] [/device:CPU:0] (DEBUG INFO) Executor start aborting (this does not indicate an error and you can ignore this message): INVALID_ARGUMENT: You must feed a value for placeholder tensor 'Placeholder/_1' with dtype uint8 and shape [60000]\n",
      "\t [[{{node Placeholder/_1}}]]\n",
      "2024-07-02 16:24:13.968230: I tensorflow/core/common_runtime/executor.cc:1197] [/device:CPU:0] (DEBUG INFO) Executor start aborting (this does not indicate an error and you can ignore this message): INVALID_ARGUMENT: You must feed a value for placeholder tensor 'Placeholder/_1' with dtype uint8 and shape [60000]\n",
      "\t [[{{node Placeholder/_1}}]]\n"
     ]
    },
    {
     "name": "stdout",
     "output_type": "stream",
     "text": [
      "1875/1875 [==============================] - 1s 585us/step - loss: 1.8235 - accuracy: 0.6584\n",
      "Epoch 2/10\n",
      "1875/1875 [==============================] - 1s 557us/step - loss: 0.5917 - accuracy: 0.8282\n",
      "Epoch 3/10\n",
      "1875/1875 [==============================] - 1s 559us/step - loss: 0.4718 - accuracy: 0.8651\n",
      "Epoch 4/10\n",
      "1875/1875 [==============================] - 1s 582us/step - loss: 0.4128 - accuracy: 0.8832\n",
      "Epoch 5/10\n",
      "1875/1875 [==============================] - 1s 559us/step - loss: 0.3587 - accuracy: 0.8982\n",
      "Epoch 6/10\n",
      "1875/1875 [==============================] - 1s 560us/step - loss: 0.3365 - accuracy: 0.9052\n",
      "Epoch 7/10\n",
      "1875/1875 [==============================] - 1s 572us/step - loss: 0.3154 - accuracy: 0.9117\n",
      "Epoch 8/10\n",
      "1875/1875 [==============================] - 1s 562us/step - loss: 0.3006 - accuracy: 0.9155\n",
      "Epoch 9/10\n",
      "1875/1875 [==============================] - 1s 571us/step - loss: 0.2845 - accuracy: 0.9211\n",
      "Epoch 10/10\n",
      "1875/1875 [==============================] - 1s 557us/step - loss: 0.2639 - accuracy: 0.9276\n"
     ]
    },
    {
     "data": {
      "text/plain": [
       "<keras.callbacks.History at 0x31f38c340>"
      ]
     },
     "execution_count": 2,
     "metadata": {},
     "output_type": "execute_result"
    }
   ],
   "source": [
    "import tensorflow as tf\n",
    "from tensorflow import keras\n",
    "import numpy as np\n",
    "\n",
    "# Initialize random X_train and y_train\n",
    "num_features = 784\n",
    "\n",
    "(X_train, Y_train), (X_test, Y_test) = tf.keras.datasets.mnist.load_data()\n",
    "\n",
    "# X_train = X_train / 255.0\n",
    "# X_test = X_test / 255.0\n",
    "\n",
    "X_train = np.reshape(X_train, (-1, num_features))\n",
    "X_test = np.reshape(X_test, (-1, num_features))\n",
    "\n",
    "# Create a TensorFlow dataset\n",
    "dataset = tf.data.Dataset.from_tensor_slices((X_train, Y_train))\n",
    "\n",
    "# Batch and shuffle the dataset\n",
    "batch_size = 32\n",
    "dataset = dataset.shuffle(buffer_size=1024).batch(batch_size)\n",
    "\n",
    "# Define the Keras model\n",
    "def build_model(config: dict):\n",
    "    input_layer = keras.layers.Input(shape=(num_features,))\n",
    "    X = keras.layers.Dense(config[\"units1\"], activation=config[\"activation1\"])(input_layer)\n",
    "    X = keras.layers.Dropout(config[\"dropout_rate\"])(X)\n",
    "    X = keras.layers.Dense(config[\"units2\"], activation=config[\"activation2\"])(X)\n",
    "    X = keras.layers.Dense(config[\"units3\"], activation=config[\"activation3\"])(X)\n",
    "    output_layer = keras.layers.Dense(config[\"units4\"], activation=config[\"activation4\"])(X)\n",
    "    model = tf.keras.Model(inputs=input_layer, outputs=output_layer)\n",
    "    return model\n",
    "\n",
    "# Configuration dictionary\n",
    "config = {\n",
    "    \"units1\": 128,\n",
    "    \"activation1\": \"relu\",\n",
    "    \"dropout_rate\": 0.5,\n",
    "    \"units2\": 64,\n",
    "    \"activation2\": \"relu\",\n",
    "    \"units3\": 32,\n",
    "    \"activation3\": \"relu\",\n",
    "    \"units4\": 64,\n",
    "    \"activation4\": \"softmax\"\n",
    "}\n",
    "\n",
    "# Build the model\n",
    "model = build_model(config)\n",
    "\n",
    "# Compile the model\n",
    "model.compile(optimizer='adam', \n",
    "              loss='sparse_categorical_crossentropy', \n",
    "              metrics=['accuracy'])\n",
    "\n",
    "# Train the model\n",
    "model.fit(dataset, epochs=10)\n"
   ]
  }
 ],
 "metadata": {
  "kernelspec": {
   "display_name": "Python (ornl_env)",
   "language": "python",
   "name": "jupyter_env"
  },
  "language_info": {
   "codemirror_mode": {
    "name": "ipython",
    "version": 3
   },
   "file_extension": ".py",
   "mimetype": "text/x-python",
   "name": "python",
   "nbconvert_exporter": "python",
   "pygments_lexer": "ipython3",
   "version": "3.10.13"
  }
 },
 "nbformat": 4,
 "nbformat_minor": 2
}
