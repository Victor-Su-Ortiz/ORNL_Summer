{
 "cells": [
  {
   "cell_type": "code",
   "execution_count": 5,
   "metadata": {},
   "outputs": [
    {
     "name": "stdout",
     "output_type": "stream",
     "text": [
      "Epoch 1/10\n"
     ]
    },
    {
     "name": "stderr",
     "output_type": "stream",
     "text": [
      "2024-07-04 12:37:44.038424: I tensorflow/core/common_runtime/executor.cc:1197] [/device:CPU:0] (DEBUG INFO) Executor start aborting (this does not indicate an error and you can ignore this message): INVALID_ARGUMENT: You must feed a value for placeholder tensor 'Placeholder/_0' with dtype uint8 and shape [60000,784]\n",
      "\t [[{{node Placeholder/_0}}]]\n",
      "2024-07-04 12:37:44.039011: I tensorflow/core/common_runtime/executor.cc:1197] [/device:CPU:0] (DEBUG INFO) Executor start aborting (this does not indicate an error and you can ignore this message): INVALID_ARGUMENT: You must feed a value for placeholder tensor 'Placeholder/_1' with dtype uint8 and shape [60000]\n",
      "\t [[{{node Placeholder/_1}}]]\n"
     ]
    },
    {
     "name": "stdout",
     "output_type": "stream",
     "text": [
      "1875/1875 [==============================] - 1s 573us/step - loss: 1.8039 - accuracy: 0.6507\n",
      "Epoch 2/10\n",
      "1875/1875 [==============================] - 1s 612us/step - loss: 0.5446 - accuracy: 0.8350\n",
      "Epoch 3/10\n",
      "1875/1875 [==============================] - 1s 579us/step - loss: 0.4342 - accuracy: 0.8737\n",
      "Epoch 4/10\n",
      "1875/1875 [==============================] - 1s 645us/step - loss: 0.3770 - accuracy: 0.8918\n",
      "Epoch 5/10\n",
      "1875/1875 [==============================] - 1s 613us/step - loss: 0.3379 - accuracy: 0.9031\n",
      "Epoch 6/10\n",
      "1875/1875 [==============================] - 1s 634us/step - loss: 0.3157 - accuracy: 0.9103\n",
      "Epoch 7/10\n",
      "1875/1875 [==============================] - 1s 584us/step - loss: 0.2970 - accuracy: 0.9166\n",
      "Epoch 8/10\n",
      "1875/1875 [==============================] - 1s 569us/step - loss: 0.2757 - accuracy: 0.9204\n",
      "Epoch 9/10\n",
      "1875/1875 [==============================] - 1s 599us/step - loss: 0.2590 - accuracy: 0.9272\n",
      "Epoch 10/10\n",
      "1875/1875 [==============================] - 1s 610us/step - loss: 0.2497 - accuracy: 0.9297\n"
     ]
    },
    {
     "data": {
      "text/plain": [
       "<keras.callbacks.History at 0x3420db8b0>"
      ]
     },
     "execution_count": 5,
     "metadata": {},
     "output_type": "execute_result"
    }
   ],
   "source": [
    "import tensorflow as tf\n",
    "from tensorflow import keras\n",
    "import numpy as np\n",
    "\n",
    "# Initialize random X_train and y_train\n",
    "num_features = 784\n",
    "\n",
    "(X_train, Y_train), (X_test, Y_test) = tf.keras.datasets.mnist.load_data()\n",
    "\n",
    "# X_train = X_train / 255.0\n",
    "# X_test = X_test / 255.0\n",
    "\n",
    "X_train = np.reshape(X_train, (-1, num_features))\n",
    "X_test = np.reshape(X_test, (-1, num_features))\n",
    "\n",
    "# Create a TensorFlow dataset\n",
    "dataset = tf.data.Dataset.from_tensor_slices((X_train, Y_train))\n",
    "\n",
    "# Batch and shuffle the dataset\n",
    "batch_size = 32\n",
    "dataset = dataset.shuffle(buffer_size=1024).batch(batch_size)\n",
    "\n",
    "# Define the Keras model\n",
    "def build_model(config: dict):\n",
    "    input_layer = keras.layers.Input(shape=(num_features,))\n",
    "    X = keras.layers.Dense(config[\"units1\"], activation=config[\"activation1\"])(input_layer)\n",
    "    X = keras.layers.Dropout(config[\"dropout_rate\"])(X)\n",
    "    X = keras.layers.Dense(config[\"units2\"], activation=config[\"activation2\"])(X)\n",
    "    X = keras.layers.Dense(config[\"units3\"], activation=config[\"activation3\"])(X)\n",
    "    output_layer = keras.layers.Dense(config[\"units4\"], activation=config[\"activation4\"])(X)\n",
    "    model = tf.keras.Model(inputs=input_layer, outputs=output_layer)\n",
    "    return model\n",
    "\n",
    "# Configuration dictionary\n",
    "config = {\n",
    "    \"units1\": 128,\n",
    "    \"activation1\": \"relu\",\n",
    "    \"dropout_rate\": 0.5,\n",
    "    \"units2\": 64,\n",
    "    \"activation2\": \"relu\",\n",
    "    \"units3\": 32,\n",
    "    \"activation3\": \"relu\",\n",
    "    \"units4\": 64,\n",
    "    \"activation4\": \"softmax\"\n",
    "}\n",
    "\n",
    "# Build the model\n",
    "model = build_model(config)\n",
    "\n",
    "# Compile the model\n",
    "model.compile(optimizer='adam', \n",
    "              loss='sparse_categorical_crossentropy', \n",
    "              metrics=['accuracy'])\n",
    "\n",
    "# Train the model\n",
    "model.fit(dataset, epochs=10)\n"
   ]
  }
 ],
 "metadata": {
  "kernelspec": {
   "display_name": "Python (ornl_env)",
   "language": "python",
   "name": "jupyter_env"
  },
  "language_info": {
   "codemirror_mode": {
    "name": "ipython",
    "version": 3
   },
   "file_extension": ".py",
   "mimetype": "text/x-python",
   "name": "python",
   "nbconvert_exporter": "python",
   "pygments_lexer": "ipython3",
   "version": "3.10.13"
  }
 },
 "nbformat": 4,
 "nbformat_minor": 2
}
