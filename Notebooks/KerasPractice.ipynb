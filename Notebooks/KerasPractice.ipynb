{
 "cells": [
  {
   "cell_type": "code",
   "execution_count": 1,
   "metadata": {},
   "outputs": [
    {
     "name": "stdout",
     "output_type": "stream",
     "text": [
      "0.7.0\n",
      "Collecting ray\n",
      "  Downloading ray-2.24.0-cp310-cp310-macosx_10_15_x86_64.whl.metadata (13 kB)\n",
      "Requirement already satisfied: click>=7.0 in /Users/victorsu-ortiz/opt/anaconda3/envs/myenv/lib/python3.10/site-packages (from ray) (8.1.7)\n",
      "Collecting filelock (from ray)\n",
      "  Downloading filelock-3.15.1-py3-none-any.whl.metadata (2.8 kB)\n",
      "Requirement already satisfied: jsonschema in /Users/victorsu-ortiz/opt/anaconda3/envs/myenv/lib/python3.10/site-packages (from ray) (4.19.2)\n",
      "Collecting msgpack<2.0.0,>=1.0.0 (from ray)\n",
      "  Downloading msgpack-1.0.8-cp310-cp310-macosx_10_9_x86_64.whl.metadata (9.1 kB)\n",
      "Requirement already satisfied: packaging in /Users/victorsu-ortiz/opt/anaconda3/envs/myenv/lib/python3.10/site-packages (from ray) (23.2)\n",
      "Requirement already satisfied: protobuf!=3.19.5,>=3.15.3 in /Users/victorsu-ortiz/opt/anaconda3/envs/myenv/lib/python3.10/site-packages (from ray) (3.20.3)\n",
      "Requirement already satisfied: pyyaml in /Users/victorsu-ortiz/opt/anaconda3/envs/myenv/lib/python3.10/site-packages (from ray) (6.0.1)\n",
      "Requirement already satisfied: aiosignal in /Users/victorsu-ortiz/opt/anaconda3/envs/myenv/lib/python3.10/site-packages (from ray) (1.2.0)\n",
      "Requirement already satisfied: frozenlist in /Users/victorsu-ortiz/opt/anaconda3/envs/myenv/lib/python3.10/site-packages (from ray) (1.4.0)\n",
      "Requirement already satisfied: requests in /Users/victorsu-ortiz/opt/anaconda3/envs/myenv/lib/python3.10/site-packages (from ray) (2.32.2)\n",
      "Requirement already satisfied: attrs>=22.2.0 in /Users/victorsu-ortiz/opt/anaconda3/envs/myenv/lib/python3.10/site-packages (from jsonschema->ray) (23.1.0)\n",
      "Requirement already satisfied: jsonschema-specifications>=2023.03.6 in /Users/victorsu-ortiz/opt/anaconda3/envs/myenv/lib/python3.10/site-packages (from jsonschema->ray) (2023.7.1)\n",
      "Requirement already satisfied: referencing>=0.28.4 in /Users/victorsu-ortiz/opt/anaconda3/envs/myenv/lib/python3.10/site-packages (from jsonschema->ray) (0.30.2)\n",
      "Requirement already satisfied: rpds-py>=0.7.1 in /Users/victorsu-ortiz/opt/anaconda3/envs/myenv/lib/python3.10/site-packages (from jsonschema->ray) (0.10.6)\n",
      "Requirement already satisfied: charset-normalizer<4,>=2 in /Users/victorsu-ortiz/opt/anaconda3/envs/myenv/lib/python3.10/site-packages (from requests->ray) (2.0.4)\n",
      "Requirement already satisfied: idna<4,>=2.5 in /Users/victorsu-ortiz/opt/anaconda3/envs/myenv/lib/python3.10/site-packages (from requests->ray) (3.7)\n",
      "Requirement already satisfied: urllib3<3,>=1.21.1 in /Users/victorsu-ortiz/opt/anaconda3/envs/myenv/lib/python3.10/site-packages (from requests->ray) (2.2.1)\n",
      "Requirement already satisfied: certifi>=2017.4.17 in /Users/victorsu-ortiz/opt/anaconda3/envs/myenv/lib/python3.10/site-packages (from requests->ray) (2024.6.2)\n",
      "Downloading ray-2.24.0-cp310-cp310-macosx_10_15_x86_64.whl (66.6 MB)\n",
      "\u001b[2K   \u001b[90m━━━━━━━━━━━━━━━━━━━━━━━━━━━━━━━━━━━━━━━━\u001b[0m \u001b[32m66.6/66.6 MB\u001b[0m \u001b[31m28.4 MB/s\u001b[0m eta \u001b[36m0:00:00\u001b[0m00:01\u001b[0m00:01\u001b[0m\n",
      "\u001b[?25hDownloading msgpack-1.0.8-cp310-cp310-macosx_10_9_x86_64.whl (87 kB)\n",
      "\u001b[2K   \u001b[90m━━━━━━━━━━━━━━━━━━━━━━━━━━━━━━━━━━━━━━━━\u001b[0m \u001b[32m88.0/88.0 kB\u001b[0m \u001b[31m9.5 MB/s\u001b[0m eta \u001b[36m0:00:00\u001b[0m\n",
      "\u001b[?25hDownloading filelock-3.15.1-py3-none-any.whl (15 kB)\n",
      "Installing collected packages: msgpack, filelock, ray\n",
      "Successfully installed filelock-3.15.1 msgpack-1.0.8 ray-2.24.0\n"
     ]
    }
   ],
   "source": [
    "try:\n",
    "    import deephyper\n",
    "    print(deephyper.__version__)\n",
    "except (ImportError, ModuleNotFoundError):\n",
    "    !pip install deephyper\n",
    "\n",
    "try:\n",
    "    import ray\n",
    "except (ImportError, ModuleNotFoundError):\n",
    "    !pip install ray\n"
   ]
  },
  {
   "cell_type": "code",
   "execution_count": 2,
   "metadata": {},
   "outputs": [],
   "source": [
    "import os\n",
    "\n",
    "\n",
    "os.environ[\"TF_CPP_MIN_LOG_LEVEL\"] = str(3)\n",
    "os.environ[\"AUTOGRAPH_VERBOSITY\"] = str(0)"
   ]
  },
  {
   "cell_type": "code",
   "execution_count": 4,
   "metadata": {},
   "outputs": [
    {
     "name": "stdout",
     "output_type": "stream",
     "text": [
      "No GPU available\n"
     ]
    }
   ],
   "source": [
    "from tensorflow.python.client import device_lib\n",
    "\n",
    "\n",
    "def get_available_gpus():\n",
    "    local_device_protos = device_lib.list_local_devices()\n",
    "    return [x.name for x in local_device_protos if x.device_type == \"GPU\"]\n",
    "\n",
    "\n",
    "n_gpus = len(get_available_gpus())\n",
    "if n_gpus > 1:\n",
    "    n_gpus -= 1\n",
    "\n",
    "is_gpu_available = n_gpus > 0\n",
    "\n",
    "if is_gpu_available:\n",
    "    print(f\"{n_gpus} GPU{'s are' if n_gpus > 1 else ' is'} available.\")\n",
    "else:\n",
    "    print(\"No GPU available\")"
   ]
  }
 ],
 "metadata": {
  "kernelspec": {
   "display_name": "Python 3",
   "language": "python",
   "name": "python3"
  },
  "language_info": {
   "codemirror_mode": {
    "name": "ipython",
    "version": 3
   },
   "file_extension": ".py",
   "mimetype": "text/x-python",
   "name": "python",
   "nbconvert_exporter": "python",
   "pygments_lexer": "ipython3",
   "version": "3.1.undefined"
  }
 },
 "nbformat": 4,
 "nbformat_minor": 2
}
